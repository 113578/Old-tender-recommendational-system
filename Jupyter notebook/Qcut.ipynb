{
 "cells": [
  {
   "cell_type": "code",
   "execution_count": 3,
   "id": "699adf05",
   "metadata": {},
   "outputs": [],
   "source": [
    "import pandas as pd"
   ]
  },
  {
   "cell_type": "code",
   "execution_count": 4,
   "id": "ec05b345",
   "metadata": {},
   "outputs": [],
   "source": [
    "df = pd.read_csv('ml_model_training_data_2022_06_30_20221128.csv', delimiter = ';', usecols = ['lot_price'])"
   ]
  },
  {
   "cell_type": "code",
   "execution_count": 19,
   "id": "ab213a47",
   "metadata": {},
   "outputs": [],
   "source": [
    "l = pd.qcut(df['lot_price'], 5)"
   ]
  },
  {
   "cell_type": "code",
   "execution_count": 24,
   "id": "9cffdfb4",
   "metadata": {
    "scrolled": true
   },
   "outputs": [
    {
     "data": {
      "text/plain": [
       "0                    (180552.0, 483057.52]\n",
       "1                    (54565.204, 180552.0]\n",
       "2                    (54565.204, 180552.0]\n",
       "3                 (483057.52, 1482422.368]\n",
       "4           (1482422.368, 214829922014.64]\n",
       "                         ...              \n",
       "12372633          (483057.52, 1482422.368]\n",
       "12372634             (54565.204, 180552.0]\n",
       "12372635               (-0.001, 54565.204]\n",
       "12372636             (54565.204, 180552.0]\n",
       "12372637               (-0.001, 54565.204]\n",
       "Name: lot_price, Length: 12372638, dtype: category\n",
       "Categories (5, interval[float64, right]): [(-0.001, 54565.204] < (54565.204, 180552.0] < (180552.0, 483057.52] < (483057.52, 1482422.368] < (1482422.368, 214829922014.64]]"
      ]
     },
     "execution_count": 24,
     "metadata": {},
     "output_type": "execute_result"
    }
   ],
   "source": [
    "l"
   ]
  },
  {
   "cell_type": "code",
   "execution_count": 25,
   "id": "130c8642",
   "metadata": {},
   "outputs": [
    {
     "data": {
      "text/plain": [
       "(54565.204, 180552.0]             2474533\n",
       "(-0.001, 54565.204]               2474528\n",
       "(1482422.368, 214829922014.64]    2474528\n",
       "(483057.52, 1482422.368]          2474527\n",
       "(180552.0, 483057.52]             2474522\n",
       "Name: lot_price, dtype: int64"
      ]
     },
     "execution_count": 25,
     "metadata": {},
     "output_type": "execute_result"
    }
   ],
   "source": [
    "l.value_counts()"
   ]
  }
 ],
 "metadata": {
  "kernelspec": {
   "display_name": "Python 3 (ipykernel)",
   "language": "python",
   "name": "python3"
  },
  "language_info": {
   "codemirror_mode": {
    "name": "ipython",
    "version": 3
   },
   "file_extension": ".py",
   "mimetype": "text/x-python",
   "name": "python",
   "nbconvert_exporter": "python",
   "pygments_lexer": "ipython3",
   "version": "3.11.1"
  }
 },
 "nbformat": 4,
 "nbformat_minor": 5
}
