{
 "cells": [
  {
   "cell_type": "code",
   "execution_count": 1,
   "id": "9dcf7796",
   "metadata": {},
   "outputs": [],
   "source": [
    "import pandas as pd\n",
    "from sklearn.model_selection import train_test_split"
   ]
  },
  {
   "cell_type": "code",
   "execution_count": 2,
   "id": "7d509587",
   "metadata": {},
   "outputs": [],
   "source": [
    "df = pd.read_csv('ml_model_training_data_2022_06_30_20221128.csv', delimiter = ';', usecols = ['pn_lot_md5'])"
   ]
  },
  {
   "cell_type": "code",
   "execution_count": 3,
   "id": "73b17087",
   "metadata": {},
   "outputs": [
    {
     "data": {
      "text/html": [
       "<div>\n",
       "<style scoped>\n",
       "    .dataframe tbody tr th:only-of-type {\n",
       "        vertical-align: middle;\n",
       "    }\n",
       "\n",
       "    .dataframe tbody tr th {\n",
       "        vertical-align: top;\n",
       "    }\n",
       "\n",
       "    .dataframe thead th {\n",
       "        text-align: right;\n",
       "    }\n",
       "</style>\n",
       "<table border=\"1\" class=\"dataframe\">\n",
       "  <thead>\n",
       "    <tr style=\"text-align: right;\">\n",
       "      <th></th>\n",
       "      <th>pn_lot_md5</th>\n",
       "    </tr>\n",
       "  </thead>\n",
       "  <tbody>\n",
       "    <tr>\n",
       "      <th>0</th>\n",
       "      <td>79d5cd7b4f002b4f08712a0f4c3c1300</td>\n",
       "    </tr>\n",
       "    <tr>\n",
       "      <th>1</th>\n",
       "      <td>05f312031133366abe5c3f761a4c858b</td>\n",
       "    </tr>\n",
       "    <tr>\n",
       "      <th>2</th>\n",
       "      <td>1e913ca3d9545b3b14295e5dc2fe6660</td>\n",
       "    </tr>\n",
       "    <tr>\n",
       "      <th>3</th>\n",
       "      <td>21247822c1a65d2832787a6a3befa728</td>\n",
       "    </tr>\n",
       "    <tr>\n",
       "      <th>4</th>\n",
       "      <td>9da7adbb6b90367f73c7d07c17138cbb</td>\n",
       "    </tr>\n",
       "  </tbody>\n",
       "</table>\n",
       "</div>"
      ],
      "text/plain": [
       "                         pn_lot_md5\n",
       "0  79d5cd7b4f002b4f08712a0f4c3c1300\n",
       "1  05f312031133366abe5c3f761a4c858b\n",
       "2  1e913ca3d9545b3b14295e5dc2fe6660\n",
       "3  21247822c1a65d2832787a6a3befa728\n",
       "4  9da7adbb6b90367f73c7d07c17138cbb"
      ]
     },
     "execution_count": 3,
     "metadata": {},
     "output_type": "execute_result"
    }
   ],
   "source": [
    "df.head()"
   ]
  },
  {
   "cell_type": "code",
   "execution_count": 4,
   "id": "30b2b600",
   "metadata": {},
   "outputs": [],
   "source": [
    "train, test = train_test_split(df, test_size = 1/3, random_state = 20, shuffle = True)"
   ]
  },
  {
   "cell_type": "code",
   "execution_count": 5,
   "id": "2034b750",
   "metadata": {},
   "outputs": [],
   "source": [
    "train.to_csv('train_data.csv' ,sep = ';', index = False)\n",
    "test.to_csv('test_data.csv', sep = ';', index = False)"
   ]
  }
 ],
 "metadata": {
  "kernelspec": {
   "display_name": "Python 3 (ipykernel)",
   "language": "python",
   "name": "python3"
  },
  "language_info": {
   "codemirror_mode": {
    "name": "ipython",
    "version": 3
   },
   "file_extension": ".py",
   "mimetype": "text/x-python",
   "name": "python",
   "nbconvert_exporter": "python",
   "pygments_lexer": "ipython3",
   "version": "3.11.1"
  }
 },
 "nbformat": 4,
 "nbformat_minor": 5
}
