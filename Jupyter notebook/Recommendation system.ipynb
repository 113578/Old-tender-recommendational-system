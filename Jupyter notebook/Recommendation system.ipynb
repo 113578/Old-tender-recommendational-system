{
 "cells": [
  {
   "cell_type": "markdown",
   "id": "1e6b487a",
   "metadata": {},
   "source": [
    "# Загрузка библиотек."
   ]
  },
  {
   "cell_type": "code",
   "execution_count": 1,
   "id": "af87ac35",
   "metadata": {},
   "outputs": [],
   "source": [
    "import pandas as pd, numpy as np\n",
    "from math import sqrt\n",
    "from sklearn.metrics.pairwise import euclidean_distances"
   ]
  },
  {
   "cell_type": "markdown",
   "id": "55176d6e",
   "metadata": {},
   "source": [
    "# Загрузка датасэтов."
   ]
  },
  {
   "cell_type": "markdown",
   "id": "798ee593",
   "metadata": {},
   "source": [
    "## Значения датасэтов:\n",
    "- df_mtd - датасэт, содержащий все тренировочные значения.\n",
    "- df_cptd - датасэт, содержащий тренировочные значения заказчик-поставщик-количество взаимодействий.\n",
    "- df_atd - датасэт, содержащий аггрегированные тренировочные значения о каждом поставщике."
   ]
  },
  {
   "cell_type": "code",
   "execution_count": 2,
   "id": "ac8f5457",
   "metadata": {
    "scrolled": true
   },
   "outputs": [
    {
     "name": "stderr",
     "output_type": "stream",
     "text": [
      "/tmp/ipykernel_3687/2292234994.py:1: DtypeWarning: Columns (7) have mixed types. Specify dtype option on import or set low_memory=False.\n",
      "  df_mtd = pd.read_csv('merged_training_data.csv', delimiter = ';')\n"
     ]
    }
   ],
   "source": [
    "df_mtd = pd.read_csv('merged_training_data.csv', delimiter = ';')\n",
    "df_cptd = pd.read_csv('customer_participant_training_data.csv', delimiter = ';')\n",
    "df_atd = pd.read_csv('aggregated_training_data.csv', delimiter = ';')"
   ]
  },
  {
   "cell_type": "markdown",
   "id": "dc735dff",
   "metadata": {},
   "source": [
    "**Немного изменим структуру датасэта df_atd.**"
   ]
  },
  {
   "cell_type": "code",
   "execution_count": 3,
   "id": "4030db91",
   "metadata": {},
   "outputs": [],
   "source": [
    "df_atd.set_index(keys = 'Participant', inplace = True)\n",
    "df_atd = df_atd[['Fz', 'Region code', 'Etp', 'Participated in small business', \n",
    "                 'Month', 'Lot price category', 'Code', 'Times participated', 'Winning percentage']]"
   ]
  },
  {
   "cell_type": "markdown",
   "id": "24dd230f",
   "metadata": {},
   "source": [
    "# Обработка входных значений."
   ]
  },
  {
   "cell_type": "markdown",
   "id": "432725a6",
   "metadata": {},
   "source": [
    "**Выбор случайного лота.**"
   ]
  },
  {
   "cell_type": "code",
   "execution_count": 4,
   "id": "8c101740",
   "metadata": {},
   "outputs": [
    {
     "data": {
      "text/html": [
       "<div>\n",
       "<style scoped>\n",
       "    .dataframe tbody tr th:only-of-type {\n",
       "        vertical-align: middle;\n",
       "    }\n",
       "\n",
       "    .dataframe tbody tr th {\n",
       "        vertical-align: top;\n",
       "    }\n",
       "\n",
       "    .dataframe thead th {\n",
       "        text-align: right;\n",
       "    }\n",
       "</style>\n",
       "<table border=\"1\" class=\"dataframe\">\n",
       "  <thead>\n",
       "    <tr style=\"text-align: right;\">\n",
       "      <th></th>\n",
       "      <th>fz</th>\n",
       "      <th>lot</th>\n",
       "      <th>region_code</th>\n",
       "      <th>etp</th>\n",
       "      <th>forsmallbiz</th>\n",
       "      <th>lot_price</th>\n",
       "      <th>customer</th>\n",
       "      <th>okpd2_code</th>\n",
       "      <th>participant</th>\n",
       "      <th>winner</th>\n",
       "      <th>Month</th>\n",
       "      <th>Lot price category</th>\n",
       "    </tr>\n",
       "  </thead>\n",
       "  <tbody>\n",
       "    <tr>\n",
       "      <th>5268592</th>\n",
       "      <td>1</td>\n",
       "      <td>8e0d2cc2cbdba85bf59318bbaf088b5f</td>\n",
       "      <td>55</td>\n",
       "      <td>14.0</td>\n",
       "      <td>1</td>\n",
       "      <td>300000.0</td>\n",
       "      <td>4cc15a93de89f8c18227b949da7224d1</td>\n",
       "      <td>81.2</td>\n",
       "      <td>aeb48f3567d700415365343be127e9b2</td>\n",
       "      <td>1.0</td>\n",
       "      <td>11</td>\n",
       "      <td>3.0</td>\n",
       "    </tr>\n",
       "  </tbody>\n",
       "</table>\n",
       "</div>"
      ],
      "text/plain": [
       "         fz                               lot  region_code   etp  forsmallbiz  \\\n",
       "5268592   1  8e0d2cc2cbdba85bf59318bbaf088b5f           55  14.0            1   \n",
       "\n",
       "         lot_price                          customer okpd2_code  \\\n",
       "5268592   300000.0  4cc15a93de89f8c18227b949da7224d1       81.2   \n",
       "\n",
       "                              participant  winner  Month  Lot price category  \n",
       "5268592  aeb48f3567d700415365343be127e9b2     1.0     11                 3.0  "
      ]
     },
     "execution_count": 4,
     "metadata": {},
     "output_type": "execute_result"
    }
   ],
   "source": [
    "lot = df_mtd.sample(1)\n",
    "lot"
   ]
  },
  {
   "cell_type": "markdown",
   "id": "6bcded45",
   "metadata": {},
   "source": [
    "**Отображение полной информации по данному лоту.**"
   ]
  },
  {
   "cell_type": "code",
   "execution_count": 5,
   "id": "195b2f4b",
   "metadata": {},
   "outputs": [
    {
     "data": {
      "text/html": [
       "<div>\n",
       "<style scoped>\n",
       "    .dataframe tbody tr th:only-of-type {\n",
       "        vertical-align: middle;\n",
       "    }\n",
       "\n",
       "    .dataframe tbody tr th {\n",
       "        vertical-align: top;\n",
       "    }\n",
       "\n",
       "    .dataframe thead th {\n",
       "        text-align: right;\n",
       "    }\n",
       "</style>\n",
       "<table border=\"1\" class=\"dataframe\">\n",
       "  <thead>\n",
       "    <tr style=\"text-align: right;\">\n",
       "      <th></th>\n",
       "      <th>fz</th>\n",
       "      <th>lot</th>\n",
       "      <th>region_code</th>\n",
       "      <th>etp</th>\n",
       "      <th>forsmallbiz</th>\n",
       "      <th>lot_price</th>\n",
       "      <th>customer</th>\n",
       "      <th>okpd2_code</th>\n",
       "      <th>participant</th>\n",
       "      <th>winner</th>\n",
       "      <th>Month</th>\n",
       "      <th>Lot price category</th>\n",
       "    </tr>\n",
       "  </thead>\n",
       "  <tbody>\n",
       "    <tr>\n",
       "      <th>5268592</th>\n",
       "      <td>1</td>\n",
       "      <td>8e0d2cc2cbdba85bf59318bbaf088b5f</td>\n",
       "      <td>55</td>\n",
       "      <td>14.0</td>\n",
       "      <td>1</td>\n",
       "      <td>300000.0</td>\n",
       "      <td>4cc15a93de89f8c18227b949da7224d1</td>\n",
       "      <td>81.2</td>\n",
       "      <td>aeb48f3567d700415365343be127e9b2</td>\n",
       "      <td>1.0</td>\n",
       "      <td>11</td>\n",
       "      <td>3.0</td>\n",
       "    </tr>\n",
       "  </tbody>\n",
       "</table>\n",
       "</div>"
      ],
      "text/plain": [
       "         fz                               lot  region_code   etp  forsmallbiz  \\\n",
       "5268592   1  8e0d2cc2cbdba85bf59318bbaf088b5f           55  14.0            1   \n",
       "\n",
       "         lot_price                          customer okpd2_code  \\\n",
       "5268592   300000.0  4cc15a93de89f8c18227b949da7224d1       81.2   \n",
       "\n",
       "                              participant  winner  Month  Lot price category  \n",
       "5268592  aeb48f3567d700415365343be127e9b2     1.0     11                 3.0  "
      ]
     },
     "execution_count": 5,
     "metadata": {},
     "output_type": "execute_result"
    }
   ],
   "source": [
    "df_lot = df_mtd[df_mtd['lot'] == lot.iloc[0, 1]]\n",
    "df_lot"
   ]
  },
  {
   "cell_type": "markdown",
   "id": "2d533772",
   "metadata": {},
   "source": [
    "**Добавление всех поставщиков, принимающих участие в этом тендере, в массив действительных поставщиков.**"
   ]
  },
  {
   "cell_type": "code",
   "execution_count": 6,
   "id": "6b93ddc1",
   "metadata": {},
   "outputs": [
    {
     "data": {
      "text/plain": [
       "array(['aeb48f3567d700415365343be127e9b2'], dtype=object)"
      ]
     },
     "execution_count": 6,
     "metadata": {},
     "output_type": "execute_result"
    }
   ],
   "source": [
    "actual_participants = df_lot['participant'].to_numpy()\n",
    "actual_participants"
   ]
  },
  {
   "cell_type": "markdown",
   "id": "c6999d63",
   "metadata": {},
   "source": [
    "# Рекомендательная система."
   ]
  },
  {
   "cell_type": "markdown",
   "id": "61a18592",
   "metadata": {},
   "source": [
    "**Создание массива для рекомендованных поставщиков.**"
   ]
  },
  {
   "cell_type": "code",
   "execution_count": 7,
   "id": "9751477e",
   "metadata": {},
   "outputs": [],
   "source": [
    "recommended_participants = np.array([])"
   ]
  },
  {
   "cell_type": "markdown",
   "id": "7825d42f",
   "metadata": {},
   "source": [
    "## 1-ый этап рекомендательной системы: рекомендации на основе истории взаимоотношений."
   ]
  },
  {
   "cell_type": "markdown",
   "id": "66befedf",
   "metadata": {},
   "source": [
    "**Отображение всех поставщиков, с кем работал заказчик выбранного лота.**"
   ]
  },
  {
   "cell_type": "code",
   "execution_count": 8,
   "id": "a56c5d24",
   "metadata": {
    "scrolled": false
   },
   "outputs": [
    {
     "data": {
      "text/html": [
       "<div>\n",
       "<style scoped>\n",
       "    .dataframe tbody tr th:only-of-type {\n",
       "        vertical-align: middle;\n",
       "    }\n",
       "\n",
       "    .dataframe tbody tr th {\n",
       "        vertical-align: top;\n",
       "    }\n",
       "\n",
       "    .dataframe thead th {\n",
       "        text-align: right;\n",
       "    }\n",
       "</style>\n",
       "<table border=\"1\" class=\"dataframe\">\n",
       "  <thead>\n",
       "    <tr style=\"text-align: right;\">\n",
       "      <th></th>\n",
       "      <th>customer</th>\n",
       "      <th>participant</th>\n",
       "      <th>count</th>\n",
       "    </tr>\n",
       "  </thead>\n",
       "  <tbody>\n",
       "    <tr>\n",
       "      <th>517163</th>\n",
       "      <td>4cc15a93de89f8c18227b949da7224d1</td>\n",
       "      <td>460a769ad49500ef7c9f73dbccbd74ac</td>\n",
       "      <td>4</td>\n",
       "    </tr>\n",
       "    <tr>\n",
       "      <th>517177</th>\n",
       "      <td>4cc15a93de89f8c18227b949da7224d1</td>\n",
       "      <td>661628b25d61aad9a63d3b3073081dd4</td>\n",
       "      <td>4</td>\n",
       "    </tr>\n",
       "    <tr>\n",
       "      <th>913836</th>\n",
       "      <td>4cc15a93de89f8c18227b949da7224d1</td>\n",
       "      <td>ea25cae725e202f917704413912f0907</td>\n",
       "      <td>3</td>\n",
       "    </tr>\n",
       "    <tr>\n",
       "      <th>913878</th>\n",
       "      <td>4cc15a93de89f8c18227b949da7224d1</td>\n",
       "      <td>d92f29cdeb40d1d35c26b16a1235c356</td>\n",
       "      <td>3</td>\n",
       "    </tr>\n",
       "    <tr>\n",
       "      <th>2428605</th>\n",
       "      <td>4cc15a93de89f8c18227b949da7224d1</td>\n",
       "      <td>2399e028295c55ecabc8ba9ea76364f7</td>\n",
       "      <td>2</td>\n",
       "    </tr>\n",
       "    <tr>\n",
       "      <th>...</th>\n",
       "      <td>...</td>\n",
       "      <td>...</td>\n",
       "      <td>...</td>\n",
       "    </tr>\n",
       "    <tr>\n",
       "      <th>2468253</th>\n",
       "      <td>4cc15a93de89f8c18227b949da7224d1</td>\n",
       "      <td>decd49372a8c396ae8f2aaff27779eda</td>\n",
       "      <td>1</td>\n",
       "    </tr>\n",
       "    <tr>\n",
       "      <th>2468254</th>\n",
       "      <td>4cc15a93de89f8c18227b949da7224d1</td>\n",
       "      <td>f73bd51091395f6556cc1786bf8f41ce</td>\n",
       "      <td>1</td>\n",
       "    </tr>\n",
       "    <tr>\n",
       "      <th>2468255</th>\n",
       "      <td>4cc15a93de89f8c18227b949da7224d1</td>\n",
       "      <td>f99becf0840c6fdd400eaf10b03d337e</td>\n",
       "      <td>1</td>\n",
       "    </tr>\n",
       "    <tr>\n",
       "      <th>2468256</th>\n",
       "      <td>4cc15a93de89f8c18227b949da7224d1</td>\n",
       "      <td>fee37c2325896ebaa08ab5da160b95ef</td>\n",
       "      <td>1</td>\n",
       "    </tr>\n",
       "    <tr>\n",
       "      <th>2468257</th>\n",
       "      <td>4cc15a93de89f8c18227b949da7224d1</td>\n",
       "      <td>ff7b31961c97efefea5ad696eae9200b</td>\n",
       "      <td>1</td>\n",
       "    </tr>\n",
       "  </tbody>\n",
       "</table>\n",
       "<p>63 rows × 3 columns</p>\n",
       "</div>"
      ],
      "text/plain": [
       "                                 customer                       participant  \\\n",
       "517163   4cc15a93de89f8c18227b949da7224d1  460a769ad49500ef7c9f73dbccbd74ac   \n",
       "517177   4cc15a93de89f8c18227b949da7224d1  661628b25d61aad9a63d3b3073081dd4   \n",
       "913836   4cc15a93de89f8c18227b949da7224d1  ea25cae725e202f917704413912f0907   \n",
       "913878   4cc15a93de89f8c18227b949da7224d1  d92f29cdeb40d1d35c26b16a1235c356   \n",
       "2428605  4cc15a93de89f8c18227b949da7224d1  2399e028295c55ecabc8ba9ea76364f7   \n",
       "...                                   ...                               ...   \n",
       "2468253  4cc15a93de89f8c18227b949da7224d1  decd49372a8c396ae8f2aaff27779eda   \n",
       "2468254  4cc15a93de89f8c18227b949da7224d1  f73bd51091395f6556cc1786bf8f41ce   \n",
       "2468255  4cc15a93de89f8c18227b949da7224d1  f99becf0840c6fdd400eaf10b03d337e   \n",
       "2468256  4cc15a93de89f8c18227b949da7224d1  fee37c2325896ebaa08ab5da160b95ef   \n",
       "2468257  4cc15a93de89f8c18227b949da7224d1  ff7b31961c97efefea5ad696eae9200b   \n",
       "\n",
       "         count  \n",
       "517163       4  \n",
       "517177       4  \n",
       "913836       3  \n",
       "913878       3  \n",
       "2428605      2  \n",
       "...        ...  \n",
       "2468253      1  \n",
       "2468254      1  \n",
       "2468255      1  \n",
       "2468256      1  \n",
       "2468257      1  \n",
       "\n",
       "[63 rows x 3 columns]"
      ]
     },
     "execution_count": 8,
     "metadata": {},
     "output_type": "execute_result"
    }
   ],
   "source": [
    "df_cptd_lot = df_cptd[df_cptd['customer'] == lot.iloc[0, 6]]\n",
    "df_cptd_lot"
   ]
  },
  {
   "cell_type": "markdown",
   "id": "c71fc60f",
   "metadata": {},
   "source": [
    "**Процедура, выбирающая первых трёх (в порядке убывания количества взаимодействий) поставщиков, которые хотя бы раз играли в том же коде ОКПД2.**"
   ]
  },
  {
   "cell_type": "code",
   "execution_count": 9,
   "id": "b8f6e933",
   "metadata": {},
   "outputs": [],
   "source": [
    "for row in range(len(df_cptd_lot)):\n",
    "    if len(df_mtd[(df_mtd['participant'] == df_cptd_lot.iloc[row, 1])\n",
    "           & (df_mtd['okpd2_code'] == lot.iloc[0, 7])]) != 0:\n",
    "        recommended_participants = np.append(recommended_participants, df_cptd_lot.iloc[row, 1])\n",
    "        if len(recommended_participants) == 3: \n",
    "            break"
   ]
  },
  {
   "cell_type": "code",
   "execution_count": 10,
   "id": "84c7f941",
   "metadata": {},
   "outputs": [
    {
     "data": {
      "text/plain": [
       "array(['661628b25d61aad9a63d3b3073081dd4',\n",
       "       '41ca6b5180f5775519a9aebe52e1373a',\n",
       "       '913cc257372caf97987862cf90e5ddd1'], dtype='<U32')"
      ]
     },
     "execution_count": 10,
     "metadata": {},
     "output_type": "execute_result"
    }
   ],
   "source": [
    "recommended_participants"
   ]
  },
  {
   "cell_type": "markdown",
   "id": "e0295596",
   "metadata": {},
   "source": [
    "## 2-ой этап рекомендательной системы: рекомендации на основе похожести поставщиков и лота."
   ]
  },
  {
   "cell_type": "markdown",
   "id": "ff14d3d6",
   "metadata": {},
   "source": [
    "**Создаём датафрейм, содержащий характеристики лота.**"
   ]
  },
  {
   "cell_type": "code",
   "execution_count": 11,
   "id": "78a55ea7",
   "metadata": {
    "scrolled": true
   },
   "outputs": [
    {
     "data": {
      "text/html": [
       "<div>\n",
       "<style scoped>\n",
       "    .dataframe tbody tr th:only-of-type {\n",
       "        vertical-align: middle;\n",
       "    }\n",
       "\n",
       "    .dataframe tbody tr th {\n",
       "        vertical-align: top;\n",
       "    }\n",
       "\n",
       "    .dataframe thead th {\n",
       "        text-align: right;\n",
       "    }\n",
       "</style>\n",
       "<table border=\"1\" class=\"dataframe\">\n",
       "  <thead>\n",
       "    <tr style=\"text-align: right;\">\n",
       "      <th></th>\n",
       "      <th>fz</th>\n",
       "      <th>region_code</th>\n",
       "      <th>etp</th>\n",
       "      <th>forsmallbiz</th>\n",
       "      <th>Month</th>\n",
       "      <th>Lot price category</th>\n",
       "    </tr>\n",
       "  </thead>\n",
       "  <tbody>\n",
       "    <tr>\n",
       "      <th>5268592</th>\n",
       "      <td>1</td>\n",
       "      <td>55</td>\n",
       "      <td>14.0</td>\n",
       "      <td>1</td>\n",
       "      <td>11</td>\n",
       "      <td>3.0</td>\n",
       "    </tr>\n",
       "  </tbody>\n",
       "</table>\n",
       "</div>"
      ],
      "text/plain": [
       "         fz  region_code   etp  forsmallbiz  Month  Lot price category\n",
       "5268592   1           55  14.0            1     11                 3.0"
      ]
     },
     "execution_count": 11,
     "metadata": {},
     "output_type": "execute_result"
    }
   ],
   "source": [
    "df_lot_features = lot.copy()\n",
    "df_lot_features.drop(['lot', 'lot_price', 'customer', 'okpd2_code', \n",
    "                      'participant', 'winner'], axis = 1, inplace = True)\n",
    "df_lot_features"
   ]
  },
  {
   "cell_type": "markdown",
   "id": "2c13624b",
   "metadata": {},
   "source": [
    "## Используем алгоритм euclidean distances, чтобы найти максимально поставщиков с максимально похожими характеристиками."
   ]
  },
  {
   "cell_type": "markdown",
   "id": "8b17ac30",
   "metadata": {},
   "source": [
    "**Редактируем датасэт df_atd для дальнейшего использования.**"
   ]
  },
  {
   "cell_type": "code",
   "execution_count": 12,
   "id": "d1c550ba",
   "metadata": {
    "scrolled": false
   },
   "outputs": [
    {
     "data": {
      "text/html": [
       "<div>\n",
       "<style scoped>\n",
       "    .dataframe tbody tr th:only-of-type {\n",
       "        vertical-align: middle;\n",
       "    }\n",
       "\n",
       "    .dataframe tbody tr th {\n",
       "        vertical-align: top;\n",
       "    }\n",
       "\n",
       "    .dataframe thead th {\n",
       "        text-align: right;\n",
       "    }\n",
       "</style>\n",
       "<table border=\"1\" class=\"dataframe\">\n",
       "  <thead>\n",
       "    <tr style=\"text-align: right;\">\n",
       "      <th></th>\n",
       "      <th>Fz</th>\n",
       "      <th>Region code</th>\n",
       "      <th>Etp</th>\n",
       "      <th>Participated in small business</th>\n",
       "      <th>Month</th>\n",
       "      <th>Lot price category</th>\n",
       "      <th>Times participated</th>\n",
       "      <th>Winning percentage</th>\n",
       "    </tr>\n",
       "    <tr>\n",
       "      <th>Participant</th>\n",
       "      <th></th>\n",
       "      <th></th>\n",
       "      <th></th>\n",
       "      <th></th>\n",
       "      <th></th>\n",
       "      <th></th>\n",
       "      <th></th>\n",
       "      <th></th>\n",
       "    </tr>\n",
       "  </thead>\n",
       "  <tbody>\n",
       "    <tr>\n",
       "      <th>1bfd55aba23d232c5e46b9cd6e651365</th>\n",
       "      <td>1</td>\n",
       "      <td>77</td>\n",
       "      <td>20.0</td>\n",
       "      <td>1</td>\n",
       "      <td>9</td>\n",
       "      <td>5.0</td>\n",
       "      <td>3475</td>\n",
       "      <td>0.0</td>\n",
       "    </tr>\n",
       "    <tr>\n",
       "      <th>7857f1a348d9bc0db2b7c2c0b1080bf7</th>\n",
       "      <td>1</td>\n",
       "      <td>77</td>\n",
       "      <td>20.0</td>\n",
       "      <td>1</td>\n",
       "      <td>3</td>\n",
       "      <td>5.0</td>\n",
       "      <td>2712</td>\n",
       "      <td>0.0</td>\n",
       "    </tr>\n",
       "    <tr>\n",
       "      <th>e30ea198af1d1e0590902d2404be3262</th>\n",
       "      <td>1</td>\n",
       "      <td>77</td>\n",
       "      <td>20.0</td>\n",
       "      <td>1</td>\n",
       "      <td>11</td>\n",
       "      <td>5.0</td>\n",
       "      <td>1489</td>\n",
       "      <td>3.0</td>\n",
       "    </tr>\n",
       "    <tr>\n",
       "      <th>756e3b3c107ad5112f7582b6e4807974</th>\n",
       "      <td>1</td>\n",
       "      <td>77</td>\n",
       "      <td>20.0</td>\n",
       "      <td>1</td>\n",
       "      <td>12</td>\n",
       "      <td>5.0</td>\n",
       "      <td>1158</td>\n",
       "      <td>0.0</td>\n",
       "    </tr>\n",
       "    <tr>\n",
       "      <th>146606a064091f61e62df032103a7c20</th>\n",
       "      <td>1</td>\n",
       "      <td>78</td>\n",
       "      <td>18.0</td>\n",
       "      <td>1</td>\n",
       "      <td>12</td>\n",
       "      <td>1.0</td>\n",
       "      <td>1011</td>\n",
       "      <td>35.0</td>\n",
       "    </tr>\n",
       "    <tr>\n",
       "      <th>...</th>\n",
       "      <td>...</td>\n",
       "      <td>...</td>\n",
       "      <td>...</td>\n",
       "      <td>...</td>\n",
       "      <td>...</td>\n",
       "      <td>...</td>\n",
       "      <td>...</td>\n",
       "      <td>...</td>\n",
       "    </tr>\n",
       "    <tr>\n",
       "      <th>fdd9f5b7edc40317e9068e56ec6434f6</th>\n",
       "      <td>1</td>\n",
       "      <td>77</td>\n",
       "      <td>20.0</td>\n",
       "      <td>1</td>\n",
       "      <td>4</td>\n",
       "      <td>2.0</td>\n",
       "      <td>1</td>\n",
       "      <td>0.0</td>\n",
       "    </tr>\n",
       "    <tr>\n",
       "      <th>fdb1961255f1bbe978d155dd61ed8a53</th>\n",
       "      <td>1</td>\n",
       "      <td>65</td>\n",
       "      <td>7.0</td>\n",
       "      <td>1</td>\n",
       "      <td>11</td>\n",
       "      <td>2.0</td>\n",
       "      <td>1</td>\n",
       "      <td>100.0</td>\n",
       "    </tr>\n",
       "    <tr>\n",
       "      <th>fdf198fc0d272e6531e94e374720f59e</th>\n",
       "      <td>1</td>\n",
       "      <td>21</td>\n",
       "      <td>20.0</td>\n",
       "      <td>1</td>\n",
       "      <td>12</td>\n",
       "      <td>4.0</td>\n",
       "      <td>1</td>\n",
       "      <td>0.0</td>\n",
       "    </tr>\n",
       "    <tr>\n",
       "      <th>ffc04d13d50e54654fe3683124aee578</th>\n",
       "      <td>1</td>\n",
       "      <td>72</td>\n",
       "      <td>21.0</td>\n",
       "      <td>1</td>\n",
       "      <td>5</td>\n",
       "      <td>3.0</td>\n",
       "      <td>1</td>\n",
       "      <td>100.0</td>\n",
       "    </tr>\n",
       "    <tr>\n",
       "      <th>fd9310d0b3acc073ec997fb2f93ff6a9</th>\n",
       "      <td>1</td>\n",
       "      <td>50</td>\n",
       "      <td>14.0</td>\n",
       "      <td>1</td>\n",
       "      <td>3</td>\n",
       "      <td>4.0</td>\n",
       "      <td>1</td>\n",
       "      <td>100.0</td>\n",
       "    </tr>\n",
       "  </tbody>\n",
       "</table>\n",
       "<p>9904 rows × 8 columns</p>\n",
       "</div>"
      ],
      "text/plain": [
       "                                  Fz  Region code   Etp  \\\n",
       "Participant                                               \n",
       "1bfd55aba23d232c5e46b9cd6e651365   1           77  20.0   \n",
       "7857f1a348d9bc0db2b7c2c0b1080bf7   1           77  20.0   \n",
       "e30ea198af1d1e0590902d2404be3262   1           77  20.0   \n",
       "756e3b3c107ad5112f7582b6e4807974   1           77  20.0   \n",
       "146606a064091f61e62df032103a7c20   1           78  18.0   \n",
       "...                               ..          ...   ...   \n",
       "fdd9f5b7edc40317e9068e56ec6434f6   1           77  20.0   \n",
       "fdb1961255f1bbe978d155dd61ed8a53   1           65   7.0   \n",
       "fdf198fc0d272e6531e94e374720f59e   1           21  20.0   \n",
       "ffc04d13d50e54654fe3683124aee578   1           72  21.0   \n",
       "fd9310d0b3acc073ec997fb2f93ff6a9   1           50  14.0   \n",
       "\n",
       "                                  Participated in small business  Month  \\\n",
       "Participant                                                               \n",
       "1bfd55aba23d232c5e46b9cd6e651365                               1      9   \n",
       "7857f1a348d9bc0db2b7c2c0b1080bf7                               1      3   \n",
       "e30ea198af1d1e0590902d2404be3262                               1     11   \n",
       "756e3b3c107ad5112f7582b6e4807974                               1     12   \n",
       "146606a064091f61e62df032103a7c20                               1     12   \n",
       "...                                                          ...    ...   \n",
       "fdd9f5b7edc40317e9068e56ec6434f6                               1      4   \n",
       "fdb1961255f1bbe978d155dd61ed8a53                               1     11   \n",
       "fdf198fc0d272e6531e94e374720f59e                               1     12   \n",
       "ffc04d13d50e54654fe3683124aee578                               1      5   \n",
       "fd9310d0b3acc073ec997fb2f93ff6a9                               1      3   \n",
       "\n",
       "                                  Lot price category  Times participated  \\\n",
       "Participant                                                                \n",
       "1bfd55aba23d232c5e46b9cd6e651365                 5.0                3475   \n",
       "7857f1a348d9bc0db2b7c2c0b1080bf7                 5.0                2712   \n",
       "e30ea198af1d1e0590902d2404be3262                 5.0                1489   \n",
       "756e3b3c107ad5112f7582b6e4807974                 5.0                1158   \n",
       "146606a064091f61e62df032103a7c20                 1.0                1011   \n",
       "...                                              ...                 ...   \n",
       "fdd9f5b7edc40317e9068e56ec6434f6                 2.0                   1   \n",
       "fdb1961255f1bbe978d155dd61ed8a53                 2.0                   1   \n",
       "fdf198fc0d272e6531e94e374720f59e                 4.0                   1   \n",
       "ffc04d13d50e54654fe3683124aee578                 3.0                   1   \n",
       "fd9310d0b3acc073ec997fb2f93ff6a9                 4.0                   1   \n",
       "\n",
       "                                  Winning percentage  \n",
       "Participant                                           \n",
       "1bfd55aba23d232c5e46b9cd6e651365                 0.0  \n",
       "7857f1a348d9bc0db2b7c2c0b1080bf7                 0.0  \n",
       "e30ea198af1d1e0590902d2404be3262                 3.0  \n",
       "756e3b3c107ad5112f7582b6e4807974                 0.0  \n",
       "146606a064091f61e62df032103a7c20                35.0  \n",
       "...                                              ...  \n",
       "fdd9f5b7edc40317e9068e56ec6434f6                 0.0  \n",
       "fdb1961255f1bbe978d155dd61ed8a53               100.0  \n",
       "fdf198fc0d272e6531e94e374720f59e                 0.0  \n",
       "ffc04d13d50e54654fe3683124aee578               100.0  \n",
       "fd9310d0b3acc073ec997fb2f93ff6a9               100.0  \n",
       "\n",
       "[9904 rows x 8 columns]"
      ]
     },
     "execution_count": 12,
     "metadata": {},
     "output_type": "execute_result"
    }
   ],
   "source": [
    "df_atd_features = df_atd[(df_atd['Code'] == df_lot.iloc[0, 7])\n",
    "                         & (df_atd['Fz'] == df_lot.iloc[0, 0])].copy()\n",
    "if df_lot.iloc[0, 4] == 1:\n",
    "    df_atd_features = df_atd_features[df_atd_features['Participated in small business'] == 1]\n",
    "df_atd_features.drop('Code', axis = 1, inplace = True)\n",
    "\n",
    "df_atd_features"
   ]
  },
  {
   "cell_type": "code",
   "execution_count": 13,
   "id": "70c639b4",
   "metadata": {},
   "outputs": [],
   "source": [
    "df_atd_features['Etp'].fillna(method = 'pad', inplace = True)\n",
    "df_atd_features['Lot price category'].fillna(method = 'pad', inplace = True)"
   ]
  },
  {
   "cell_type": "markdown",
   "id": "930265f5",
   "metadata": {},
   "source": [
    "**Присваиваем значения и находим наименьшое Евклидово расстояние. x - характеристики лота, y - характеристики поставщика.**"
   ]
  },
  {
   "cell_type": "code",
   "execution_count": 15,
   "id": "ff05bbbd",
   "metadata": {
    "scrolled": true
   },
   "outputs": [],
   "source": [
    "x = df_lot_features\n",
    "\n",
    "while len(recommended_participants) != 5:\n",
    "    ed_reference = euclidean_distances(x, df_atd_features.iloc[0, :6].to_frame().transpose())\n",
    "    \n",
    "    for row in range(1, len(df_atd_features)):\n",
    "        y_reference = df_atd_features.iloc[row, :]\n",
    "        ed = euclidean_distances(x, y_reference.iloc[:6].to_frame().transpose())\n",
    "        if ed < ed_reference:\n",
    "            ed_reference = ed\n",
    "            y = y_reference\n",
    "\n",
    "    recommended_participants = np.append(recommended_participants, y.name)\n",
    "    df_atd_features.drop(labels = y.name, axis = 0, inplace = True)"
   ]
  },
  {
   "cell_type": "markdown",
   "id": "d5055227",
   "metadata": {},
   "source": [
    "# Оценка рекомендательной системы."
   ]
  },
  {
   "cell_type": "markdown",
   "id": "82efd3e6",
   "metadata": {},
   "source": [
    "**Список рекомендованных поставщиков.**"
   ]
  },
  {
   "cell_type": "code",
   "execution_count": 16,
   "id": "4ac85bf0",
   "metadata": {
    "scrolled": true
   },
   "outputs": [
    {
     "data": {
      "text/plain": [
       "array(['661628b25d61aad9a63d3b3073081dd4',\n",
       "       '41ca6b5180f5775519a9aebe52e1373a',\n",
       "       '913cc257372caf97987862cf90e5ddd1',\n",
       "       'c642c50e769f19298e262561339b1f42',\n",
       "       'd550498448e48b4ffb2895f2c128905d'], dtype='<U32')"
      ]
     },
     "execution_count": 16,
     "metadata": {},
     "output_type": "execute_result"
    }
   ],
   "source": [
    "recommended_participants"
   ]
  },
  {
   "cell_type": "markdown",
   "id": "a815633d",
   "metadata": {},
   "source": [
    "**Список действительных поставщиков.**"
   ]
  },
  {
   "cell_type": "code",
   "execution_count": 17,
   "id": "523a09e3",
   "metadata": {
    "scrolled": false
   },
   "outputs": [
    {
     "data": {
      "text/plain": [
       "array(['aeb48f3567d700415365343be127e9b2'], dtype=object)"
      ]
     },
     "execution_count": 17,
     "metadata": {},
     "output_type": "execute_result"
    }
   ],
   "source": [
    "actual_participants"
   ]
  },
  {
   "cell_type": "markdown",
   "id": "5fbb4d9f",
   "metadata": {},
   "source": [
    "**Считаем процент правильных прогнозов.**"
   ]
  },
  {
   "cell_type": "code",
   "execution_count": 18,
   "id": "87c8a3cc",
   "metadata": {},
   "outputs": [
    {
     "data": {
      "text/plain": [
       "0.0"
      ]
     },
     "execution_count": 18,
     "metadata": {},
     "output_type": "execute_result"
    }
   ],
   "source": [
    "isin = np.isin(actual_participants, recommended_participants)\n",
    "np.count_nonzero(isin == True) / len(isin)"
   ]
  }
 ],
 "metadata": {
  "kernelspec": {
   "display_name": "Python 3 (ipykernel)",
   "language": "python",
   "name": "python3"
  },
  "language_info": {
   "codemirror_mode": {
    "name": "ipython",
    "version": 3
   },
   "file_extension": ".py",
   "mimetype": "text/x-python",
   "name": "python",
   "nbconvert_exporter": "python",
   "pygments_lexer": "ipython3",
   "version": "3.11.1"
  }
 },
 "nbformat": 4,
 "nbformat_minor": 5
}
